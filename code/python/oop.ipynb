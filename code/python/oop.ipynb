{
 "cells": [
  {
   "cell_type": "markdown",
   "id": "bb774126-26a5-4af2-abad-4bc48df15a93",
   "metadata": {},
   "source": [
    "# Object-oriented Programming in Python\n",
    "\n",
    "[Object-oriented programming (OOP)](https://en.wikipedia.org/wiki/Object-oriented_programming) is a programming paradigm based on the object– a software entity that encapsulates data and function(s). \n",
    "\n",
    "There are three major pillars on which object-oriented programming relies: \n",
    "- **encapsulation**\n",
    "- inheritance\n",
    "- polymorphism\n",
    "\n",
    "-----\n",
    "\n",
    "## References\n",
    "\n",
    "- [9. Classes](https://docs.python.org/3/tutorial/classes.html)\n",
    "- [Object-Oriented Programming (OOP) in Python](https://realpython.com/python3-object-oriented-programming/)"
   ]
  },
  {
   "cell_type": "markdown",
   "id": "e82fb004-7a68-443a-9589-3af15c5d22aa",
   "metadata": {},
   "source": [
    "> Classes provide a means of bundling data and functionality together. Creating a new class creates a new type of object, allowing new instances of that type to be made. Each class instance can have attributes attached to it for maintaining its state. Class instances can also have methods (defined by its class) for modifying its state."
   ]
  },
  {
   "cell_type": "code",
   "execution_count": 1,
   "id": "58d514a9-89b6-45bc-bca1-f8b80a03fba3",
   "metadata": {},
   "outputs": [
    {
     "name": "stdout",
     "output_type": "stream",
     "text": [
      "I am a node with 20\n",
      "20\n",
      "I am a node with 30\n"
     ]
    }
   ],
   "source": [
    "class Node:\n",
    "    def __init__(self, data, next_node=None):\n",
    "        self.data = data\n",
    "        self.next_node = next_node\n",
    "\n",
    "    def __str__(self):\n",
    "        # https://stackoverflow.com/questions/1436703/what-is-the-difference-between-str-and-repr\n",
    "        return f\"I am a node with {self.data}\"\n",
    "\n",
    "node = Node(20)\n",
    "print(node)\n",
    "print(node.data)\n",
    "node.data = 30\n",
    "print(node)"
   ]
  },
  {
   "cell_type": "markdown",
   "id": "7af9cb51-4f58-4b68-be18-891d1de5744d",
   "metadata": {},
   "source": [
    "> The simplest form of class definition looks like this:\n",
    "\n",
    "```python\n",
    "class ClassName:\n",
    "    <statement-1>\n",
    "    .\n",
    "    .\n",
    "    .\n",
    "    <statement-N>\n",
    "```\n",
    "\n",
    "> Class definitions, like function definitions (`def` statements) must be executed before they have any effect. (You could conceivably place a `class` definition in a branch of an `if` statement, or inside a function.)"
   ]
  },
  {
   "cell_type": "code",
   "execution_count": 2,
   "id": "98848220-308e-49ff-8a85-4788808810c8",
   "metadata": {},
   "outputs": [
    {
     "name": "stdout",
     "output_type": "stream",
     "text": [
      "bark\n"
     ]
    }
   ],
   "source": [
    "def foo():\n",
    "    class Dog:\n",
    "        def speak(self):\n",
    "            return \"bark\"\n",
    "    dog = Dog()\n",
    "    return dog.speak()\n",
    "\n",
    "speak = foo()\n",
    "print(speak)"
   ]
  },
  {
   "cell_type": "markdown",
   "id": "796b9d95-5318-4b81-99f3-0717a17afa49",
   "metadata": {},
   "source": [
    "> In practice, the statements inside a class definition will usually be function definitions, but other statements are allowed, and sometimes useful — we’ll come back to this later. The function definitions inside a class normally have a peculiar  /pɪˈkjuːl.jɚ/  form of argument list, dictated by the calling conventions for methods — again, this is explained later.\n",
    "\n",
    "\n",
    "> When a class definition is entered, a new namespace is created, and used as the local scope — thus, all assignments to local variables go into this new namespace. In particular, function definitions bind the name of the new function here."
   ]
  },
  {
   "cell_type": "code",
   "execution_count": 3,
   "id": "33d804db-4b5d-42f1-bd35-c615ed1a4794",
   "metadata": {},
   "outputs": [
    {
     "name": "stdout",
     "output_type": "stream",
     "text": [
      "hi\n"
     ]
    }
   ],
   "source": [
    "class Dog:\n",
    "    def speak(self):\n",
    "        return \"bark\"\n",
    "\n",
    "def speak(self):\n",
    "    return f\"{self}\"\n",
    "\n",
    "\n",
    "print(speak(\"hi\"))"
   ]
  },
  {
   "cell_type": "markdown",
   "id": "0746542c-a703-46dd-a66f-df0cfa373cb3",
   "metadata": {},
   "source": [
    "> When a class definition is left normally (via the end), a **class object** is created. This is basically a wrapper around the contents of the namespace created by the class definition; we’ll learn more about class objects in the next section. The original local scope (the one in effect just before the class definition was entered) is reinstated, and the class object is bound here to the class name given in the class definition header (ClassName in the example).\n",
    ">\n",
    "> In Python, **everything is an object**.\n",
    "\n",
    "```python\n",
    "class Node:\n",
    "    def __init__(self, data, next_node=None):\n",
    "        self.data = data\n",
    "        self.next_node = next_node\n",
    "        \n",
    "node = Node(20)\n",
    "```\n",
    "\n",
    "`Node` itself is also an object."
   ]
  },
  {
   "cell_type": "code",
   "execution_count": 4,
   "id": "23a5c19e-46cb-4f13-9a21-41cc489706c5",
   "metadata": {},
   "outputs": [
    {
     "data": {
      "text/plain": [
       "__main__.Node"
      ]
     },
     "execution_count": 4,
     "metadata": {},
     "output_type": "execute_result"
    }
   ],
   "source": [
    "Node"
   ]
  },
  {
   "cell_type": "code",
   "execution_count": 5,
   "id": "12c07315-4979-47b9-9984-9d6069df3421",
   "metadata": {},
   "outputs": [
    {
     "name": "stdout",
     "output_type": "stream",
     "text": [
      "<class 'type'>\n",
      "<class 'int'>\n"
     ]
    }
   ],
   "source": [
    "print(type(Node))\n",
    "print(type(1))"
   ]
  },
  {
   "cell_type": "markdown",
   "id": "c7149808-91bc-476b-a069-c4c1dc525ecf",
   "metadata": {},
   "source": [
    "> Class objects support two kinds of operations: *attribute references* and *instantiation*.\n",
    ">\n",
    "> **Attribute references** use the standard syntax used for all attribute references in Python: `obj.name`. Valid attribute names are all the names that were in the class’s namespace when the class object was created. So, if the class definition looked like this:\n",
    "\n",
    "```python\n",
    "class MyClass:\n",
    "    \"\"\"A simple example class\"\"\"\n",
    "    i = 12345\n",
    "\n",
    "    def f(self):\n",
    "        return 'hello world'\n",
    "```\n",
    "\n",
    "> then `MyClass.i` and `MyClass.f` are valid attribute references, returning an integer and a function object, respectively. Class attributes can also be assigned to, so you can change the value of MyClass.i by assignment. `__doc__` is also a valid attribute, returning the docstring belonging to the class: \"A simple example class\"."
   ]
  },
  {
   "cell_type": "code",
   "execution_count": 6,
   "id": "3cb585ed-a740-4d5c-8a1f-fdd39fe529fd",
   "metadata": {},
   "outputs": [],
   "source": [
    "class MyClass:\n",
    "    \"\"\"A simple example class\"\"\"\n",
    "    i = 12345\n",
    "\n",
    "    def f(self):\n",
    "        return 'hello world'"
   ]
  },
  {
   "cell_type": "code",
   "execution_count": 7,
   "id": "7d7493e3-0d33-4bb5-857e-ca38bee93d5f",
   "metadata": {},
   "outputs": [
    {
     "name": "stdout",
     "output_type": "stream",
     "text": [
      "Help on class MyClass in module __main__:\n",
      "\n",
      "class MyClass(builtins.object)\n",
      " |  A simple example class\n",
      " |  \n",
      " |  Methods defined here:\n",
      " |  \n",
      " |  f(self)\n",
      " |  \n",
      " |  ----------------------------------------------------------------------\n",
      " |  Data descriptors defined here:\n",
      " |  \n",
      " |  __dict__\n",
      " |      dictionary for instance variables\n",
      " |  \n",
      " |  __weakref__\n",
      " |      list of weak references to the object\n",
      " |  \n",
      " |  ----------------------------------------------------------------------\n",
      " |  Data and other attributes defined here:\n",
      " |  \n",
      " |  i = 12345\n",
      "\n"
     ]
    }
   ],
   "source": [
    "help(MyClass)"
   ]
  },
  {
   "cell_type": "code",
   "execution_count": 8,
   "id": "b4c5b74a-428e-4d5f-8bb9-e7cf4550c675",
   "metadata": {},
   "outputs": [
    {
     "data": {
      "text/plain": [
       "\u001b[31mInit signature:\u001b[39m MyClass()\n",
       "\u001b[31mDocstring:\u001b[39m      A simple example class\n",
       "\u001b[31mType:\u001b[39m           type\n",
       "\u001b[31mSubclasses:\u001b[39m     "
      ]
     },
     "metadata": {},
     "output_type": "display_data"
    }
   ],
   "source": [
    "?MyClass"
   ]
  },
  {
   "cell_type": "code",
   "execution_count": 9,
   "id": "d348b450-c34f-4dd3-ab8d-a68c6d2f4f83",
   "metadata": {},
   "outputs": [
    {
     "data": {
      "text/plain": [
       "\u001b[31mInit signature:\u001b[39m MyClass()\n",
       "\u001b[31mDocstring:\u001b[39m      A simple example class\n",
       "\u001b[31mType:\u001b[39m           type\n",
       "\u001b[31mSubclasses:\u001b[39m     "
      ]
     },
     "metadata": {},
     "output_type": "display_data"
    }
   ],
   "source": [
    "MyClass?"
   ]
  },
  {
   "cell_type": "markdown",
   "id": "6cbaf451-8061-460e-a35f-6a377ed9b8c4",
   "metadata": {},
   "source": [
    "> *Class instantiation* uses function notation. Just pretend that the class object is a parameterless function that returns a new instance of the class. For example (assuming the above class):\n",
    "> x = MyClass()\n",
    "> creates a new instance of the class and assigns this object to the local variable x."
   ]
  },
  {
   "cell_type": "code",
   "execution_count": 10,
   "id": "d105b249-590a-426e-83bf-7a1b807539ff",
   "metadata": {},
   "outputs": [],
   "source": [
    "x = MyClass()"
   ]
  },
  {
   "cell_type": "markdown",
   "id": "ee26649b-f92f-4953-b95f-ce1d3591ef41",
   "metadata": {},
   "source": [
    "> The instantiation operation (“calling” a class object) creates an empty object. Many classes like to create objects with instances customized to a specific initial state. Therefore a class may define a special method named `__init__()`.\n",
    "\n",
    "```python\n",
    "class MyClass:\n",
    "    def __init__(self):\n",
    "        self.data = []\n",
    "\n",
    "class Node:\n",
    "    def __init__(self, data, next_node=None):\n",
    "        self.data = data\n",
    "        self.next_node = next_node\n",
    "```\n",
    "\n",
    "> Of course, the __init__() method may have arguments for greater flexibility. In that case, arguments given to the class instantiation operator are passed on to __init__()."
   ]
  },
  {
   "cell_type": "code",
   "execution_count": 11,
   "id": "3f1dfd0f-382d-42da-89ce-3593067a06a5",
   "metadata": {},
   "outputs": [
    {
     "name": "stdout",
     "output_type": "stream",
     "text": [
      "3.0 -4.5\n"
     ]
    }
   ],
   "source": [
    "class Complex:\n",
    "    def __init__(self, realpart, imagpart):\n",
    "        self.r = realpart\n",
    "        self.i = imagpart\n",
    "\n",
    "c = Complex(3.0, -4.5)\n",
    "print(c.r, c.i)"
   ]
  },
  {
   "cell_type": "markdown",
   "id": "d206537e-6a4c-4108-a8a1-68a3262eecba",
   "metadata": {},
   "source": [
    "> Now what can we do with instance objects? The only operations understood by instance objects are attribute references. There are two kinds of valid attribute names: **data attributes** and **methods**."
   ]
  },
  {
   "cell_type": "code",
   "execution_count": 12,
   "id": "b223ea32-f933-4c56-abe7-1a3da9db82f2",
   "metadata": {},
   "outputs": [
    {
     "data": {
      "text/plain": [
       "'hello world'"
      ]
     },
     "execution_count": 12,
     "metadata": {},
     "output_type": "execute_result"
    }
   ],
   "source": [
    "x.f()"
   ]
  },
  {
   "cell_type": "code",
   "execution_count": 13,
   "id": "c664aee8-a453-4240-9712-9a38b0e43f92",
   "metadata": {},
   "outputs": [
    {
     "name": "stdout",
     "output_type": "stream",
     "text": [
      "<class '__main__.MyClass'>\n"
     ]
    }
   ],
   "source": [
    "print(type(x))"
   ]
  },
  {
   "cell_type": "code",
   "execution_count": 14,
   "id": "af60e7e9-9365-489e-96ed-d8d77cfcf359",
   "metadata": {},
   "outputs": [
    {
     "data": {
      "text/plain": [
       "'hello world'"
      ]
     },
     "execution_count": 14,
     "metadata": {},
     "output_type": "execute_result"
    }
   ],
   "source": [
    "xf = x.f\n",
    "xf()"
   ]
  },
  {
   "cell_type": "code",
   "execution_count": 15,
   "id": "8874a51e-5ec5-41de-86f9-429ca3c3e876",
   "metadata": {},
   "outputs": [
    {
     "data": {
      "text/plain": [
       "method"
      ]
     },
     "execution_count": 15,
     "metadata": {},
     "output_type": "execute_result"
    }
   ],
   "source": [
    "type(x.f)"
   ]
  },
  {
   "cell_type": "code",
   "execution_count": 16,
   "id": "13a443a0-8d4c-4a91-9507-27a809f96b18",
   "metadata": {},
   "outputs": [
    {
     "name": "stdout",
     "output_type": "stream",
     "text": [
      "<class 'method'>\n"
     ]
    }
   ],
   "source": [
    "print(type(x.f))"
   ]
  },
  {
   "cell_type": "code",
   "execution_count": 17,
   "id": "bbaf8b83-b39e-45ac-9988-749b828872a5",
   "metadata": {},
   "outputs": [
    {
     "name": "stdout",
     "output_type": "stream",
     "text": [
      "<class 'function'>\n"
     ]
    }
   ],
   "source": [
    "print(type(MyClass.f))"
   ]
  },
  {
   "cell_type": "markdown",
   "id": "67ebd714-380e-4d3f-9cfb-46145b2240e1",
   "metadata": {},
   "source": [
    "> What exactly happens when a method is called? You may have noticed that `x.f()` was called without an argument above, even though the function definition for `f()` specified an argument. What happened to the argument? Surely Python raises an exception when a function that requires an argument is called without any — even if the argument isn’t actually used…"
   ]
  },
  {
   "cell_type": "code",
   "execution_count": 18,
   "id": "b2a7bc38-c007-4376-a350-4d97adad4693",
   "metadata": {},
   "outputs": [],
   "source": [
    "def foo(x):\n",
    "    print(\"I am a function\")\n",
    "\n",
    "# foo()"
   ]
  },
  {
   "cell_type": "code",
   "execution_count": 19,
   "id": "f70ee43a-9075-45b9-b22e-45a02b272caf",
   "metadata": {},
   "outputs": [
    {
     "name": "stdout",
     "output_type": "stream",
     "text": [
      "<class 'function'>\n"
     ]
    }
   ],
   "source": [
    "print(type(foo))"
   ]
  },
  {
   "cell_type": "code",
   "execution_count": 20,
   "id": "45ca587c-4a69-408d-8b1c-88b0db3efeef",
   "metadata": {},
   "outputs": [
    {
     "data": {
      "text/plain": [
       "'hello world'"
      ]
     },
     "execution_count": 20,
     "metadata": {},
     "output_type": "execute_result"
    }
   ],
   "source": [
    "MyClass.f(x) # x.f()"
   ]
  },
  {
   "cell_type": "markdown",
   "id": "4c16eb1f-ea68-47fd-864a-8858bba0048c",
   "metadata": {},
   "source": [
    "> Actually, you may have guessed the answer: the special thing about methods is that the instance object is passed as the first argument of the function. In our example, the call `x.f()` is exactly equivalent to `MyClass.f(x)`. In general, calling a method with a list of n arguments is equivalent to calling the corresponding function with an argument list that is created by inserting the method’s instance object before the first argument."
   ]
  },
  {
   "cell_type": "markdown",
   "id": "be488ca4-547a-4eed-9a41-5c37e1a1dd72",
   "metadata": {},
   "source": [
    "> In general, methods work as follows. When a non-data attribute of an instance is referenced, the instance’s class is searched. If the name denotes a valid class attribute that is a function object, references to both the instance object and the function object are packed into a method object. When the method object is called with an argument list, a new argument list is constructed from the instance object and the argument list, and the function object is called with this new argument list."
   ]
  },
  {
   "cell_type": "code",
   "execution_count": 21,
   "id": "ace022b6-be4f-42c2-aa38-947e68398ca7",
   "metadata": {},
   "outputs": [
    {
     "data": {
      "text/plain": [
       "<bound method MyClass.f of <__main__.MyClass object at 0x7fb588ab53d0>>"
      ]
     },
     "execution_count": 21,
     "metadata": {},
     "output_type": "execute_result"
    }
   ],
   "source": [
    "x.f"
   ]
  },
  {
   "cell_type": "code",
   "execution_count": 22,
   "id": "f65ad658-4249-4872-96e0-e961ff0b8689",
   "metadata": {},
   "outputs": [
    {
     "data": {
      "text/plain": [
       "<function __main__.MyClass.f(self)>"
      ]
     },
     "execution_count": 22,
     "metadata": {},
     "output_type": "execute_result"
    }
   ],
   "source": [
    "MyClass.f"
   ]
  },
  {
   "cell_type": "markdown",
   "id": "1c698d89-c3f8-435d-895b-784a0645a810",
   "metadata": {},
   "source": [
    "> Generally speaking, instance variables are for data unique to each instance and class variables are for attributes and methods shared by all instances of the class:\n",
    "\n",
    "\n",
    "```shell\n",
    "class Dog:\n",
    "\n",
    "    kind = 'canine'         # class variable shared by all instances\n",
    "\n",
    "    def __init__(self, name):\n",
    "        self.name = name    # instance variable unique to each instance\n",
    "\n",
    ">>> d = Dog('Fido')\n",
    ">>> e = Dog('Buddy')\n",
    ">>> d.kind                  # shared by all dogs\n",
    "'canine'\n",
    ">>> e.kind                  # shared by all dogs\n",
    "'canine'\n",
    ">>> d.name                  # unique to d\n",
    "'Fido'\n",
    ">>> e.name                  # unique to e\n",
    "'Buddy'\n",
    "```"
   ]
  },
  {
   "cell_type": "code",
   "execution_count": 23,
   "id": "86519d04-ad7f-443c-8073-88fa3dbff4f3",
   "metadata": {},
   "outputs": [],
   "source": [
    "class Dog:\n",
    "    tricks = []             # mistaken use of a class variable\n",
    "    def __init__(self, name):\n",
    "        self.name = name\n",
    "    def add_trick(self, trick):\n",
    "        self.tricks.append(trick)"
   ]
  },
  {
   "cell_type": "code",
   "execution_count": 24,
   "id": "fe49515a-a592-48f8-9d6a-9f59c6c79eff",
   "metadata": {},
   "outputs": [],
   "source": [
    "d = Dog('Fido')\n",
    "e = Dog('Buddy')\n",
    "d.add_trick('roll over')\n",
    "e.add_trick('play dead')\n",
    "# d.tricks"
   ]
  }
 ],
 "metadata": {
  "kernelspec": {
   "display_name": "Python 3 (ipykernel)",
   "language": "python",
   "name": "python3"
  },
  "language_info": {
   "codemirror_mode": {
    "name": "ipython",
    "version": 3
   },
   "file_extension": ".py",
   "mimetype": "text/x-python",
   "name": "python",
   "nbconvert_exporter": "python",
   "pygments_lexer": "ipython3",
   "version": "3.11.13"
  }
 },
 "nbformat": 4,
 "nbformat_minor": 5
}
